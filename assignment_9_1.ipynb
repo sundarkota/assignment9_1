{
 "cells": [
  {
   "cell_type": "markdown",
   "metadata": {},
   "source": [
    "<h6>1) How-to-count-distance-to-the-previous-zero</h6>\n",
    "<h2><pre>For each value, count the difference back to the previous zero (or the start of the Series,\n",
    "whichever is closer)\n",
    "create a new column 'Y'\n",
    "Consider a DataFrame df where there is an integer column 'X'\n",
    "import pandas as pd\n",
    "df = pd.DataFrame({'X': [7, 2, 0, 3, 4, 2, 5, 0, 3, 4]})\n",
    "</pre>\n",
    "</h2>"
   ]
  },
  {
   "cell_type": "code",
   "execution_count": 4,
   "metadata": {},
   "outputs": [],
   "source": [
    "import numpy as np\n",
    "import pandas as pd\n",
    "from datetime import datetime as dt"
   ]
  },
  {
   "cell_type": "code",
   "execution_count": 5,
   "metadata": {},
   "outputs": [],
   "source": [
    "df = pd.DataFrame({'X': [7, 2, 0, 3, 4, 2, 5, 0, 3, 4]})\n",
    "idx=df.index[df['X']].tolist()"
   ]
  },
  {
   "cell_type": "code",
   "execution_count": 6,
   "metadata": {},
   "outputs": [
    {
     "data": {
      "text/plain": [
       "[7, 2, 0, 3, 4, 2, 5, 0, 3, 4]"
      ]
     },
     "execution_count": 6,
     "metadata": {},
     "output_type": "execute_result"
    }
   ],
   "source": [
    "idx"
   ]
  },
  {
   "cell_type": "code",
   "execution_count": 9,
   "metadata": {},
   "outputs": [
    {
     "name": "stdout",
     "output_type": "stream",
     "text": [
      "[1, 2, 0, 1, 2, 3, 4, 0, 1, 2]\n"
     ]
    }
   ],
   "source": [
    "to_zero =[(idx[i::-1]+[0]).index(0) for i in range(len(idx))]\n",
    "print(to_zero)"
   ]
  },
  {
   "cell_type": "markdown",
   "metadata": {},
   "source": [
    "<h6>2) Create a DatetimeIndex that contains each business day of 2015 and use it to index a\n",
    "Series of random numbers.</h6>"
   ]
  },
  {
   "cell_type": "code",
   "execution_count": 9,
   "metadata": {},
   "outputs": [],
   "source": [
    "mydates = pd.date_range(start='2015-01-01', end='2015-12-31', freq='B') \n",
    "s = pd.Series(np.random.randint(0,10000,len(mydates)), index=mydates)"
   ]
  },
  {
   "cell_type": "code",
   "execution_count": 25,
   "metadata": {},
   "outputs": [
    {
     "data": {
      "text/plain": [
       "2015-01-01     857\n",
       "2015-01-02    2412\n",
       "2015-01-05    9461\n",
       "2015-01-06    7301\n",
       "2015-01-07    5988\n",
       "2015-01-08    2036\n",
       "2015-01-09    2891\n",
       "2015-01-12    6238\n",
       "2015-01-13     267\n",
       "2015-01-14    8710\n",
       "2015-01-15     470\n",
       "2015-01-16     378\n",
       "2015-01-19    3227\n",
       "2015-01-20    4524\n",
       "2015-01-21    8594\n",
       "2015-01-22    5918\n",
       "2015-01-23    3627\n",
       "2015-01-26    6942\n",
       "2015-01-27     817\n",
       "2015-01-28    6384\n",
       "2015-01-29    8000\n",
       "2015-01-30    8650\n",
       "2015-02-02    9502\n",
       "2015-02-03     940\n",
       "2015-02-04    1226\n",
       "2015-02-05    9808\n",
       "2015-02-06    6696\n",
       "2015-02-09    9668\n",
       "2015-02-10    4858\n",
       "2015-02-11    9994\n",
       "              ... \n",
       "2015-11-20     687\n",
       "2015-11-23    7099\n",
       "2015-11-24    8393\n",
       "2015-11-25    8120\n",
       "2015-11-26    8735\n",
       "2015-11-27    1931\n",
       "2015-11-30    8300\n",
       "2015-12-01    7833\n",
       "2015-12-02    5518\n",
       "2015-12-03    1757\n",
       "2015-12-04    2015\n",
       "2015-12-07    5664\n",
       "2015-12-08    8139\n",
       "2015-12-09     332\n",
       "2015-12-10    1946\n",
       "2015-12-11    3371\n",
       "2015-12-14     810\n",
       "2015-12-15    1144\n",
       "2015-12-16    2622\n",
       "2015-12-17    2147\n",
       "2015-12-18    6054\n",
       "2015-12-21    2549\n",
       "2015-12-22    8431\n",
       "2015-12-23    6288\n",
       "2015-12-24    1857\n",
       "2015-12-25    4611\n",
       "2015-12-28    3742\n",
       "2015-12-29    2680\n",
       "2015-12-30    6815\n",
       "2015-12-31    4925\n",
       "Freq: B, Length: 261, dtype: int32"
      ]
     },
     "execution_count": 25,
     "metadata": {},
     "output_type": "execute_result"
    }
   ],
   "source": [
    "s"
   ]
  },
  {
   "cell_type": "markdown",
   "metadata": {},
   "source": [
    "<h3>3) Find the sum of the values in s for every Wednesday</h3>\n"
   ]
  },
  {
   "cell_type": "code",
   "execution_count": 13,
   "metadata": {},
   "outputs": [
    {
     "data": {
      "text/plain": [
       "230915"
      ]
     },
     "execution_count": 13,
     "metadata": {},
     "output_type": "execute_result"
    }
   ],
   "source": [
    "s[mydates.weekday == 2].sum()"
   ]
  },
  {
   "cell_type": "markdown",
   "metadata": {},
   "source": [
    "<h3>4) Average For each calendar month</h3>"
   ]
  },
  {
   "cell_type": "code",
   "execution_count": 15,
   "metadata": {},
   "outputs": [
    {
     "data": {
      "text/plain": [
       "2015-01-31    4713.272727\n",
       "2015-02-28    5794.850000\n",
       "2015-03-31    4858.818182\n",
       "2015-04-30    5179.045455\n",
       "2015-05-31    5502.000000\n",
       "2015-06-30    5152.045455\n",
       "2015-07-31    5078.956522\n",
       "2015-08-31    4692.571429\n",
       "2015-09-30    4595.409091\n",
       "2015-10-31    4096.045455\n",
       "2015-11-30    5855.666667\n",
       "2015-12-31    3967.391304\n",
       "Freq: M, dtype: float64"
      ]
     },
     "execution_count": 15,
     "metadata": {},
     "output_type": "execute_result"
    }
   ],
   "source": [
    "s.resample('M').mean()"
   ]
  },
  {
   "cell_type": "markdown",
   "metadata": {},
   "source": [
    "<h2>5) For each group of four consecutive calendar months in s, find the date on which the\n",
    "highest value occurred.</h2>"
   ]
  },
  {
   "cell_type": "code",
   "execution_count": 24,
   "metadata": {},
   "outputs": [
    {
     "data": {
      "text/plain": [
       "2015-01-31   2015-01-05\n",
       "2015-05-31   2015-02-11\n",
       "2015-09-30   2015-09-03\n",
       "2016-01-31   2015-11-11\n",
       "dtype: datetime64[ns]"
      ]
     },
     "execution_count": 24,
     "metadata": {},
     "output_type": "execute_result"
    }
   ],
   "source": [
    "s.groupby(pd.Grouper(freq='4M')).idxmax() #pd.TimeGrouper('4M')).idxmax()"
   ]
  },
  {
   "cell_type": "code",
   "execution_count": null,
   "metadata": {},
   "outputs": [],
   "source": []
  },
  {
   "cell_type": "code",
   "execution_count": null,
   "metadata": {},
   "outputs": [],
   "source": []
  }
 ],
 "metadata": {
  "kernelspec": {
   "display_name": "Python 3",
   "language": "python",
   "name": "python3"
  },
  "language_info": {
   "codemirror_mode": {
    "name": "ipython",
    "version": 3
   },
   "file_extension": ".py",
   "mimetype": "text/x-python",
   "name": "python",
   "nbconvert_exporter": "python",
   "pygments_lexer": "ipython3",
   "version": "3.6.4"
  }
 },
 "nbformat": 4,
 "nbformat_minor": 2
}
